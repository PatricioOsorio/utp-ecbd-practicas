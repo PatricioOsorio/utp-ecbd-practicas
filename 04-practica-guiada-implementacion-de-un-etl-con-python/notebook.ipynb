{
 "cells": [
  {
   "attachments": {},
   "cell_type": "markdown",
   "metadata": {},
   "source": [
    "# Actividad ETL con Python 🐍 y Postgres 🐘\n",
    "\n",
    "- Realizar la unión de contenido de 2 archivos, con la informacion de la contaminacion del aire de 8 ciduad entre 2017 y 2020."
   ]
  },
  {
   "attachments": {},
   "cell_type": "markdown",
   "metadata": {},
   "source": [
    "## Importacion de librerias"
   ]
  },
  {
   "cell_type": "code",
   "execution_count": null,
   "metadata": {},
   "outputs": [],
   "source": [
    "# Importacion de librerias\n",
    "import pandas as pd\n",
    "import datetime\n",
    "import numpy\n",
    "from sqlalchemy import create_engine\n",
    "import psycopg2\n",
    "\n",
    "import sys"
   ]
  },
  {
   "cell_type": "code",
   "execution_count": null,
   "metadata": {},
   "outputs": [],
   "source": [
    "# Guardamos en variables la ubicacion de los archivos\n",
    "path_pm = 'NivelesContaminacion_pm25.csv'\n",
    "path_o = 'NivelesContaminacion_o3.csv'\n",
    "\n",
    "# Leemos el contenido de los archivos csv\n",
    "data_pm = pd.read_csv(path_pm)\n",
    "data_o = pd.read_csv(path_o)"
   ]
  },
  {
   "cell_type": "code",
   "execution_count": null,
   "metadata": {},
   "outputs": [],
   "source": [
    "# Se lee el contenido\n",
    "data_pm.head()"
   ]
  },
  {
   "cell_type": "code",
   "execution_count": null,
   "metadata": {},
   "outputs": [],
   "source": [
    "# Se lee el contenido\n",
    "data_o.head()"
   ]
  },
  {
   "attachments": {},
   "cell_type": "markdown",
   "metadata": {},
   "source": [
    "## Eliminacion de columnas para ```data_o```"
   ]
  },
  {
   "cell_type": "code",
   "execution_count": null,
   "metadata": {},
   "outputs": [],
   "source": [
    "# Se eliminan las columnas 5, 6 y 7\n",
    "# axis = 1 => especifica que es la columna\n",
    "data_o.drop(data_o.columns[[5, 6, 7]], axis=1, inplace=True)"
   ]
  },
  {
   "cell_type": "code",
   "execution_count": null,
   "metadata": {},
   "outputs": [],
   "source": [
    "# Se verifica el resultado\n",
    "data_o"
   ]
  },
  {
   "attachments": {},
   "cell_type": "markdown",
   "metadata": {},
   "source": [
    "## Renombrar columnas para ```data_o```"
   ]
  },
  {
   "cell_type": "code",
   "execution_count": null,
   "metadata": {},
   "outputs": [],
   "source": [
    "# Se renombrará la columnas <count> por <count_o3>\n",
    "data_o.columns = [\"Date\", \"Country\", \"City\", \"Specie\", \"Count_o3\"]"
   ]
  },
  {
   "cell_type": "code",
   "execution_count": null,
   "metadata": {},
   "outputs": [],
   "source": [
    "# Se verifica el resultado\n",
    "data_o.columns"
   ]
  },
  {
   "attachments": {},
   "cell_type": "markdown",
   "metadata": {},
   "source": [
    "## Más eliminaciones de columna para ```data_o```"
   ]
  },
  {
   "cell_type": "code",
   "execution_count": null,
   "metadata": {},
   "outputs": [],
   "source": [
    "# Eliminacion de la columna 3 \"Specie\"\n",
    "data_o.drop(data_o.columns[[3]], axis=1, inplace=True)"
   ]
  },
  {
   "cell_type": "code",
   "execution_count": null,
   "metadata": {},
   "outputs": [],
   "source": [
    "# Se verifica el resultado\n",
    "data_o.columns"
   ]
  },
  {
   "attachments": {},
   "cell_type": "markdown",
   "metadata": {},
   "source": [
    "## Eliminación de columnas para ```data_pm```"
   ]
  },
  {
   "cell_type": "code",
   "execution_count": null,
   "metadata": {},
   "outputs": [],
   "source": [
    "# Se eliminan las columnas 5, 6 y 7\n",
    "# axis = 1 => especifica que es la columna\n",
    "data_pm.drop(data_pm.columns[[5, 6, 7]], axis=1, inplace=True)"
   ]
  },
  {
   "cell_type": "code",
   "execution_count": null,
   "metadata": {},
   "outputs": [],
   "source": [
    "# Se verifica el resultado\n",
    "data_pm"
   ]
  },
  {
   "attachments": {},
   "cell_type": "markdown",
   "metadata": {},
   "source": [
    "## Renombrar columnas para ```data_pm```"
   ]
  },
  {
   "cell_type": "code",
   "execution_count": null,
   "metadata": {},
   "outputs": [],
   "source": [
    "# Se renombrará la columna <count> por <count_pm>\n",
    "data_pm = data_pm.rename({'count': 'Count_pm25'}, axis=1)\n",
    "\n",
    "# Se elimina la columna 3 \"Specie\"\n",
    "data_pm.drop(data_pm.columns[[3]], axis=1, inplace=True)"
   ]
  },
  {
   "cell_type": "code",
   "execution_count": null,
   "metadata": {},
   "outputs": [],
   "source": [
    "# Se verifica el resultado\n",
    "data_pm.columns"
   ]
  },
  {
   "attachments": {},
   "cell_type": "markdown",
   "metadata": {},
   "source": [
    "## Combinar los datas"
   ]
  },
  {
   "cell_type": "code",
   "execution_count": null,
   "metadata": {},
   "outputs": [],
   "source": [
    "data_merged_pm_o = pd.merge(data_o,\n",
    "                            data_pm,\n",
    "                            how='left',\n",
    "                            left_on=[\"Date\", \"Country\", \"City\"],\n",
    "                            right_on=[\"Date\", \"Country\", \"City\"]\n",
    "                            )"
   ]
  },
  {
   "cell_type": "code",
   "execution_count": null,
   "metadata": {},
   "outputs": [],
   "source": [
    "# Se verifica el resultado\n",
    "data_merged_pm_o"
   ]
  },
  {
   "attachments": {},
   "cell_type": "markdown",
   "metadata": {},
   "source": [
    "## Carga de datos\n",
    "\n",
    "- BD : postgre\n",
    "- Database : etl_with_python"
   ]
  },
  {
   "cell_type": "code",
   "execution_count": null,
   "metadata": {},
   "outputs": [],
   "source": [
    "# Se comprueban los campos de la nueva coleccion\n",
    "data_merged_pm_o.columns"
   ]
  },
  {
   "attachments": {},
   "cell_type": "markdown",
   "metadata": {},
   "source": [
    "### Query de creacion de tabla\n",
    "\n",
    "```sql\n",
    "CREATE TABLE count_o3_pm25 (\n",
    "  \"date\" DATE,\n",
    "  \"country\" VARCHAR,\n",
    "  \"city\" VARCHAR,\n",
    "  \"count_o3\" INT,\n",
    "  \"count_pm25\" INT\n",
    ")\n",
    "```"
   ]
  },
  {
   "attachments": {},
   "cell_type": "markdown",
   "metadata": {},
   "source": [
    "## Conexión a postgres"
   ]
  },
  {
   "cell_type": "code",
   "execution_count": null,
   "metadata": {},
   "outputs": [],
   "source": [
    "# Declaramos un diccionario con datos para la conexion a la bd\n",
    "postgre_dictionary_connection = {\n",
    "  \"host\": \"localhost\",\n",
    "  \"user\": \"postgres\",\n",
    "  \"password\": \"pato\",\n",
    "  \"database\": \"etl_with_python\"\n",
    "}"
   ]
  },
  {
   "cell_type": "code",
   "execution_count": null,
   "metadata": {},
   "outputs": [],
   "source": [
    "# Declaramos la funcion para conectar a postgre\n",
    "def connect_to_postgre(dictionary_connection):\n",
    "    connection = None\n",
    "\n",
    "    try:\n",
    "        print('Connecting to PostgreSQL server')\n",
    "        connection = psycopg2.connect(**dictionary_connection)\n",
    "    except (Exception, psycopg2.DatabaseError) as error:\n",
    "        print(error)\n",
    "        sys.exit(1)\n",
    "\n",
    "    print(\"Connection successful\")\n",
    "    return connection"
   ]
  },
  {
   "cell_type": "code",
   "execution_count": null,
   "metadata": {},
   "outputs": [],
   "source": [
    "# Guardamos en <connection> la conexion a postgree\n",
    "connection = connect_to_postgre(postgre_dictionary_connection)"
   ]
  },
  {
   "cell_type": "code",
   "execution_count": null,
   "metadata": {},
   "outputs": [],
   "source": [
    "# Definicion una funcion para insertar datos en postgree\n",
    "def execute_many(connection, data, table):\n",
    "    tuples = [tuple(x) for x in data.to_numpy()]\n",
    "\n",
    "    cols = ','.join(list(data.columns))\n",
    "\n",
    "    query = \"INSERT INTO %s(%s) VALUES (%%s, %%s, %%s, %%s, %%s)\" % (\n",
    "        table, cols)\n",
    "\n",
    "    cursor = connection.cursor()\n",
    "\n",
    "    try:\n",
    "        cursor.executemany(query, tuples)\n",
    "        connection.commit()\n",
    "    except (Exception, psycopg2.DatabaseError) as error:\n",
    "        print(\"Error: %s\" % error)\n",
    "        connection.rollback()\n",
    "        cursor.close()\n",
    "        return 1\n",
    "    print(\"execute_many() done\")\n",
    "    cursor.close()"
   ]
  },
  {
   "cell_type": "code",
   "execution_count": null,
   "metadata": {},
   "outputs": [],
   "source": [
    "# Ejecutamos la funcion\n",
    "execute_many(connection, data_merged_pm_o, 'count_o3_pm25')"
   ]
  }
 ],
 "metadata": {
  "kernelspec": {
   "display_name": "Python 3",
   "language": "python",
   "name": "python3"
  },
  "language_info": {
   "codemirror_mode": {
    "name": "ipython",
    "version": 3
   },
   "file_extension": ".py",
   "mimetype": "text/x-python",
   "name": "python",
   "nbconvert_exporter": "python",
   "pygments_lexer": "ipython3",
   "version": "3.10.11"
  },
  "orig_nbformat": 4
 },
 "nbformat": 4,
 "nbformat_minor": 2
}
