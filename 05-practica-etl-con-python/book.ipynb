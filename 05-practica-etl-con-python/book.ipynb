{
 "cells": [
  {
   "attachments": {},
   "cell_type": "markdown",
   "metadata": {},
   "source": [
    "# Práctica ETL con Python 🐍\n",
    "- Tomar como referencia una base de datos realizada en cuatrimestres anteriores o actual\n",
    "- La extracción involucre el contenido de por lo menos tres tablas relacionadas de la base de datos seleccionada en el numeral\n",
    "- La transformación deberán ser como mínimo: cambio de nombre de columnas, eliminación de columnas,  eliminación de datos null y combinación de datos de los 3 dataset (tablas de la base de datos relacional) . Para la combinación utilizar el método \"merge\" de python (parametro inner, right o left)\n",
    "- Cargar el resultado de las transformaciones en una tabla en postgres."
   ]
  },
  {
   "attachments": {},
   "cell_type": "markdown",
   "metadata": {},
   "source": [
    "## Importacion de librerias"
   ]
  },
  {
   "cell_type": "code",
   "execution_count": null,
   "metadata": {},
   "outputs": [],
   "source": [
    "import pyodbc\n",
    "import pandas as pd\n",
    "from sqlalchemy import create_engine\n",
    "import psycopg2\n",
    "import sys"
   ]
  },
  {
   "attachments": {},
   "cell_type": "markdown",
   "metadata": {},
   "source": [
    "## Conexion con SQL Server"
   ]
  },
  {
   "cell_type": "code",
   "execution_count": null,
   "metadata": {},
   "outputs": [],
   "source": [
    "server = 'DESKTOP-C20IQMM'\n",
    "database = 'heladeria'\n",
    "\n",
    "# Cadena de conexion\n",
    "connection_string_sql_server = f'DRIVER={{SQL Server}};SERVER={server};DATABASE={database};Trusted_Connection=yes;'\n",
    "\n",
    "# Conexion a la base de datos\n",
    "connection_sql_server = pyodbc.connect(connection_string_sql_server)"
   ]
  },
  {
   "attachments": {},
   "cell_type": "markdown",
   "metadata": {},
   "source": [
    "## Crecion de los archivos ```.csv``` de las tablas"
   ]
  },
  {
   "cell_type": "code",
   "execution_count": null,
   "metadata": {},
   "outputs": [],
   "source": [
    "array_tables = ['clientes', 'productos', 'ventas']\n",
    "\n",
    "queries = [f\"SELECT * FROM {table}\" for table in array_tables]\n",
    "\n",
    "# Leer cada tabla y crear un array de DataFrame de pandas\n",
    "data_frames = [pd.read_sql_query(query, connection_sql_server) for query in queries]\n",
    "\n",
    "# Se cierra la conexino a SQL server\n",
    "connection_sql_server.close()\n",
    "\n",
    "# Reemplaza 'ruta_del_archivo.csv' con la ubicación y el nombre que desees para el archivo CSV\n",
    "ruta_de_archivos_csv = [f\"{table}_table.csv\" for table in array_tables]\n",
    "\n",
    "# Guardar el DataFrame como un archivo CSV\n",
    "for i, data_frame in enumerate(data_frames):\n",
    "    data_frame.to_csv(ruta_de_archivos_csv[i], index=False, encoding='utf-8')"
   ]
  },
  {
   "attachments": {},
   "cell_type": "markdown",
   "metadata": {},
   "source": [
    "## Lectura de los arhivos ```.csv``` generados"
   ]
  },
  {
   "cell_type": "code",
   "execution_count": null,
   "metadata": {},
   "outputs": [],
   "source": [
    "# Leemos el contenido de los archivos csv\n",
    "data_clientes, data_productos, data_ventas = map(lambda path: pd.read_csv(path), ruta_de_archivos_csv)"
   ]
  },
  {
   "cell_type": "code",
   "execution_count": null,
   "metadata": {},
   "outputs": [],
   "source": [
    "data_clientes"
   ]
  },
  {
   "cell_type": "code",
   "execution_count": null,
   "metadata": {},
   "outputs": [],
   "source": [
    "data_productos"
   ]
  },
  {
   "cell_type": "code",
   "execution_count": null,
   "metadata": {},
   "outputs": [],
   "source": [
    "data_ventas"
   ]
  },
  {
   "attachments": {},
   "cell_type": "markdown",
   "metadata": {},
   "source": [
    "## Cambio de nombre de columnas"
   ]
  },
  {
   "cell_type": "code",
   "execution_count": null,
   "metadata": {},
   "outputs": [],
   "source": [
    "# Se renombrará la columnas <nombre> por <nombres>\n",
    "# axis = 1 => especifica que es la columna\n",
    "data_clientes = data_clientes.rename({'nombre': 'nombres'}, axis=1)\n",
    "\n",
    "data_clientes"
   ]
  },
  {
   "attachments": {},
   "cell_type": "markdown",
   "metadata": {},
   "source": [
    "## Eliminación de columnas"
   ]
  },
  {
   "cell_type": "code",
   "execution_count": null,
   "metadata": {},
   "outputs": [],
   "source": [
    "# Se eliminan la columna 4 (TELEFONO)\n",
    "# axis = 1 => especifica que es la columna\n",
    "data_clientes.drop(data_clientes.columns[[3]], axis=1, inplace=True)\n",
    "\n",
    "data_clientes"
   ]
  },
  {
   "attachments": {},
   "cell_type": "markdown",
   "metadata": {},
   "source": [
    "## Eliminación de datos null "
   ]
  },
  {
   "cell_type": "code",
   "execution_count": null,
   "metadata": {},
   "outputs": [],
   "source": [
    "# inplace=True => reemplaza el DataFrime original\n",
    "data_productos.dropna(subset=['descripcion'], inplace=True)\n",
    "\n",
    "data_productos"
   ]
  },
  {
   "attachments": {},
   "cell_type": "markdown",
   "metadata": {},
   "source": [
    "## Combinacion  de datos de los 3 dataset (tablas de la base de datos relacional)\n",
    "- Para la combinación utilizar el método \"merge\" de python (parametro inner, right o left)"
   ]
  },
  {
   "cell_type": "code",
   "execution_count": null,
   "metadata": {},
   "outputs": [],
   "source": [
    "data_merged_ventas_clientes = pd.merge(data_ventas,\n",
    "                                       data_clientes,\n",
    "                                       how='inner',\n",
    "                                       left_on=[\"id_cliente\",],\n",
    "                                       right_on=[\"id_cliente\"],\n",
    "                                       suffixes=('', '_cliente')\n",
    "                                       )\n",
    "\n",
    "data_merged_ventas_clientes"
   ]
  },
  {
   "cell_type": "code",
   "execution_count": null,
   "metadata": {},
   "outputs": [],
   "source": [
    "data_merged_ventas_clientes_productos = pd.merge(data_merged_ventas_clientes,\n",
    "                                                 data_productos,\n",
    "                                                 how='inner',\n",
    "                                                 left_on=[\"id_producto\",],\n",
    "                                                 right_on=[\"id_producto\"],\n",
    "                                                 suffixes=('', '_producto')\n",
    "                                                 )\n",
    "\n",
    "data_merged_ventas_clientes_productos"
   ]
  },
  {
   "attachments": {},
   "cell_type": "markdown",
   "metadata": {},
   "source": [
    "## Carga de datos\n",
    "\n",
    "- BD : postgre\n",
    "- Database : etl_practice_python"
   ]
  },
  {
   "cell_type": "code",
   "execution_count": null,
   "metadata": {},
   "outputs": [],
   "source": [
    "# Se comprueban los campos de la nueva coleccion\n",
    "data_merged_ventas_clientes_productos.columns"
   ]
  },
  {
   "attachments": {},
   "cell_type": "markdown",
   "metadata": {},
   "source": [
    "### Query de creacion de tabla\n",
    "\n",
    "```sql\n",
    "CREATE TABLE table_merged (\n",
    "  \"id_venta\" INT,\n",
    "  \"id_cliente\" INT,\n",
    "  \"id_producto\" INT,\n",
    "  \"fecha_venta\" DATE,\n",
    "  \"cantidad\" INT,\n",
    "  \"nombres\" VARCHAR(50),\n",
    "  \"direccion\" VARCHAR(50),\n",
    "  \"nombre\" VARCHAR(50),\n",
    "  \"precio\" DECIMAL(8, 2),\n",
    "  \"descripcion\" VARCHAR(200)\n",
    ")\n",
    "```"
   ]
  },
  {
   "attachments": {},
   "cell_type": "markdown",
   "metadata": {},
   "source": [
    "## Conexión a postgres"
   ]
  },
  {
   "cell_type": "code",
   "execution_count": null,
   "metadata": {},
   "outputs": [],
   "source": [
    "# Declaramos un diccionario con datos para la conexion a la bd\n",
    "postgre_dictionary_connection = {\n",
    "  \"host\": \"localhost\",\n",
    "  \"user\": \"postgres\",\n",
    "  \"password\": \"pato\",\n",
    "  \"database\": \"etl_practice_python\"\n",
    "}"
   ]
  },
  {
   "cell_type": "code",
   "execution_count": null,
   "metadata": {},
   "outputs": [],
   "source": [
    "# Declaramos la funcion para conectar a postgre\n",
    "def connect_to_postgre(dictionary_connection):\n",
    "    connection = None\n",
    "\n",
    "    try:\n",
    "        print('Connecting to PostgreSQL server')\n",
    "        connection = psycopg2.connect(**dictionary_connection)\n",
    "    except (Exception, psycopg2.DatabaseError) as error:\n",
    "        print(error)\n",
    "        sys.exit(1)\n",
    "\n",
    "    print(\"Connection successful\")\n",
    "    return connection"
   ]
  },
  {
   "cell_type": "code",
   "execution_count": null,
   "metadata": {},
   "outputs": [],
   "source": [
    "# Guardamos en <connection> la conexion a postgree\n",
    "connection_postgre = connect_to_postgre(postgre_dictionary_connection)"
   ]
  },
  {
   "cell_type": "code",
   "execution_count": null,
   "metadata": {},
   "outputs": [],
   "source": [
    "# Definicion una funcion para insertar datos en postgree\n",
    "def execute_many(connection, data, table):\n",
    "    tuples = [tuple(x) for x in data.to_numpy()]\n",
    "\n",
    "    cols = ','.join(list(data.columns))\n",
    "\n",
    "    query = \"INSERT INTO %s(%s) VALUES (%%s, %%s, %%s, %%s, %%s, %%s, %%s, %%s, %%s, %%s)\" % (\n",
    "        table, cols)\n",
    "\n",
    "    cursor = connection.cursor()\n",
    "\n",
    "    try:\n",
    "        cursor.executemany(query, tuples)\n",
    "        connection.commit()\n",
    "    except (Exception, psycopg2.DatabaseError) as error:\n",
    "        print(\"Error: %s\" % error)\n",
    "        connection.rollback()\n",
    "        cursor.close()\n",
    "        return 1\n",
    "    print(\"execute_many() done\")\n",
    "    cursor.close()"
   ]
  },
  {
   "cell_type": "code",
   "execution_count": null,
   "metadata": {},
   "outputs": [],
   "source": [
    "# Ejecutamos la funcion\n",
    "execute_many(connection_postgre, data_merged_ventas_clientes_productos, 'table_merged')"
   ]
  }
 ],
 "metadata": {
  "kernelspec": {
   "display_name": "base",
   "language": "python",
   "name": "python3"
  },
  "language_info": {
   "codemirror_mode": {
    "name": "ipython",
    "version": 3
   },
   "file_extension": ".py",
   "mimetype": "text/x-python",
   "name": "python",
   "nbconvert_exporter": "python",
   "pygments_lexer": "ipython3",
   "version": "3.10.11"
  },
  "orig_nbformat": 4
 },
 "nbformat": 4,
 "nbformat_minor": 2
}
