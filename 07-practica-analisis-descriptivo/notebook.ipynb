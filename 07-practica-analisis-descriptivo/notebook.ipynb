{
 "cells": [
  {
   "cell_type": "markdown",
   "metadata": {},
   "source": [
    "# Práctica: Análisis descriptivo\n",
    "---\n",
    "- **Objetivo de la actividad**: El alumno realizará un análisis descriptivo sobre los casos de COVID en México.\n",
    "- Plantear por lo menos tres preguntas que se responderán con los resultados de los datos analizados\n",
    "- Nota: En la práctica se deberá incluir el proceso ETL, análisis de datos y la presentación de resultados  a través de un gráfico\n",
    " \n",
    "## Librerias\n",
    "- **NumPy**: Contiene funciones matemáticas para aplicarlas a un conjunto de datos\n",
    "- **Pandas**: Se utiliza para manipular los datos incluidos en las tablas\n",
    "- **Matplotlib**: Permite generar diagramas simples o complejos para la visualización de datos\n",
    "- **openpyxl**: Permite leer archivos excel en fomato `.xls`\n",
    "\n",
    "## Preguntas\n",
    "1. ¿Cuál es la entidad donde se registró el mayor número de casos de COVID-19?\n",
    "1. ¿Cuántos casos de COVID-19 se registraron en hombres y cuántos en mujeres?\n",
    "1. ¿Cuántos casos de COVID-19 han resultado en defunción?"
   ]
  },
  {
   "cell_type": "markdown",
   "metadata": {},
   "source": [
    "## Parte 1: Importación de paquetes Python\n",
    "---"
   ]
  },
  {
   "cell_type": "code",
   "execution_count": null,
   "metadata": {},
   "outputs": [],
   "source": [
    "import pandas as pd\n",
    "import matplotlib.pyplot as plt\n",
    "import numpy as np\n",
    "import openpyxl"
   ]
  },
  {
   "cell_type": "markdown",
   "metadata": {},
   "source": [
    "## Parte 2: Carga de datos\n",
    "---"
   ]
  },
  {
   "cell_type": "code",
   "execution_count": null,
   "metadata": {},
   "outputs": [],
   "source": [
    "path_data_covid = \"COVID19MEXICO.csv\"\n",
    "\n",
    "data_covid = pd.read_csv(path_data_covid)"
   ]
  },
  {
   "cell_type": "code",
   "execution_count": null,
   "metadata": {},
   "outputs": [],
   "source": [
    "data_covid.head()"
   ]
  },
  {
   "cell_type": "code",
   "execution_count": null,
   "metadata": {},
   "outputs": [],
   "source": [
    "# Deteminar el numero total de registros\n",
    "len(data_covid)"
   ]
  },
  {
   "cell_type": "markdown",
   "metadata": {},
   "source": [
    "## Lectura del diccionario de datos"
   ]
  },
  {
   "cell_type": "code",
   "execution_count": null,
   "metadata": {},
   "outputs": [],
   "source": [
    "# Ruta del archivo de Excel\n",
    "path_dictionary_excel = '201128 Catalogos.xlsx'\n",
    "\n",
    "# Leer el archivo de Excel\n",
    "dictionary_excel = pd.ExcelFile(path_dictionary_excel)\n",
    "\n",
    "# Obtener las hojas del archivo de Excel\n",
    "sheets = dictionary_excel.sheet_names\n",
    "\n",
    "# Iterar sobre las hojas y leer cada una en un DataFrame separado\n",
    "data_dictionary = {}\n",
    "\n",
    "for sheet in sheets:\n",
    "    df = pd.read_excel(dictionary_excel, sheet_name=sheet)\n",
    "    data_dictionary[sheet] = df\n",
    "\n",
    "# Acceder a los data_dictionary de cada hoja\n",
    "for sheet, df in data_dictionary.items():\n",
    "    print(f\"Hoja: '{sheet}'\")\n",
    "\n"
   ]
  },
  {
   "cell_type": "markdown",
   "metadata": {},
   "source": [
    "## Parte 3: Preparación de datos\n",
    "---"
   ]
  },
  {
   "cell_type": "code",
   "execution_count": null,
   "metadata": {},
   "outputs": [],
   "source": [
    "states = data_dictionary[\"Catálogo de ENTIDADES\"]\n",
    "states.head(2)"
   ]
  },
  {
   "cell_type": "markdown",
   "metadata": {},
   "source": [
    "## Parte 4: Análisis de datos\n",
    "---"
   ]
  },
  {
   "cell_type": "markdown",
   "metadata": {},
   "source": [
    "### 1. ¿Cuál es la entidad donde se registró el mayor número de casos de COVID-19?"
   ]
  },
  {
   "cell_type": "code",
   "execution_count": null,
   "metadata": {},
   "outputs": [],
   "source": [
    "# Realizar la combinación de los DataFrames utilizando la columna \"ENTIDAD_RES\" y \"CLAVE_ENTIDAD\"\n",
    "data_covid_with_states = pd.merge(data_covid, states, left_on='ENTIDAD_RES', right_on='CLAVE_ENTIDAD', how=\"left\")\n",
    "\n",
    "# Mostrar el resultado\n",
    "data_covid_with_states"
   ]
  },
  {
   "cell_type": "code",
   "execution_count": null,
   "metadata": {},
   "outputs": [],
   "source": [
    "data_covid_with_states_count =  data_covid_with_states['ENTIDAD_FEDERATIVA'].value_counts()\n",
    "\n",
    "print(data_covid_with_states_count)"
   ]
  },
  {
   "cell_type": "markdown",
   "metadata": {},
   "source": [
    "### ¿Cuántos casos de COVID-19 se registraron en hombres y cuántos en mujeres?"
   ]
  },
  {
   "cell_type": "code",
   "execution_count": null,
   "metadata": {},
   "outputs": [],
   "source": [
    "genres = data_dictionary[\"Catálogo SEXO\"]"
   ]
  },
  {
   "cell_type": "code",
   "execution_count": null,
   "metadata": {},
   "outputs": [],
   "source": [
    "# Realizar la combinación de los DataFrames utilizando la columna \"ENTIDAD_RES\" y \"CLAVE_ENTIDAD\"\n",
    "data_covid_with_genres = pd.merge(data_covid, genres, left_on='SEXO', right_on='CLAVE', how=\"left\")\n",
    "\n",
    "data_covid_with_genres_count =  data_covid_with_genres['DESCRIPCIÓN'].value_counts()\n",
    "\n",
    "data_covid_with_genres_count"
   ]
  },
  {
   "cell_type": "markdown",
   "metadata": {},
   "source": [
    "### ¿Cuántos casos de COVID-19 han resultado en defunción?"
   ]
  },
  {
   "cell_type": "code",
   "execution_count": null,
   "metadata": {},
   "outputs": [],
   "source": [
    "# Filtrar los registros con valor \"9999-99-99\"\n",
    "data_covid_filtered = data_covid[data_covid[\"FECHA_DEF\"] != \"9999-99-99\"]\n",
    "\n",
    "# Contar las fechas en el DataFrame filtrado\n",
    "data_covid_def = data_covid_filtered[\"FECHA_DEF\"].value_counts()\n",
    "\n",
    "# Mostrar el resultado\n",
    "print(data_covid_def)\n"
   ]
  },
  {
   "cell_type": "code",
   "execution_count": null,
   "metadata": {},
   "outputs": [],
   "source": [
    "# Crear una nueva columna \"MES_AÑO\" con el mes y año de la fecha de la defuncion\n",
    "data_covid_def[\"MES_AÑO\"] = pd.to_datetime(data_covid_filtered[\"FECHA_DEF\"]).dt.to_period('M')\n",
    "\n",
    "# Calcular el recuento por mes y año\n",
    "def_month_year = data_covid_def[\"MES_AÑO\"].value_counts().sort_index()\n",
    "def_month_year"
   ]
  },
  {
   "cell_type": "markdown",
   "metadata": {},
   "source": [
    "## Parte 5: Visualización de datos\n",
    "___"
   ]
  },
  {
   "cell_type": "code",
   "execution_count": null,
   "metadata": {},
   "outputs": [],
   "source": [
    "plt.rcParams['figure.figsize'] = (20, 9)\n",
    "\n",
    "color = plt.cm.spring(np.linspace(0, 1, 15))\n",
    "\n",
    "data_covid_with_states['ENTIDAD_FEDERATIVA'].value_counts().plot.bar(color=color, figsize = (15, 6))\n",
    "\n",
    "plt.title(\"Contagios por entidad\", fontsize = 30)\n",
    "\n",
    "plt.show()"
   ]
  },
  {
   "cell_type": "code",
   "execution_count": null,
   "metadata": {},
   "outputs": [],
   "source": [
    "data_covid_with_genres['DESCRIPCIÓN'].value_counts().plot.bar(color=color, figsize = (15, 6))\n",
    "\n",
    "plt.title(\"Cantidad de Hombres y Mujeres\", fontsize = 30)\n",
    "\n",
    "plt.show()"
   ]
  },
  {
   "cell_type": "code",
   "execution_count": null,
   "metadata": {},
   "outputs": [],
   "source": [
    "def_month_year.plot.bar(color=color, figsize = (15, 6))\n",
    "\n",
    "plt.title(\"Fechas de defunciones\", fontsize = 30)\n",
    "plt.xlabel(\"Mes y Año\")\n",
    "plt.ylabel(\"Número de contagios\")\n",
    "\n",
    "plt.show()"
   ]
  }
 ],
 "metadata": {
  "kernelspec": {
   "display_name": "base",
   "language": "python",
   "name": "python3"
  },
  "language_info": {
   "codemirror_mode": {
    "name": "ipython",
    "version": 3
   },
   "file_extension": ".py",
   "mimetype": "text/x-python",
   "name": "python",
   "nbconvert_exporter": "python",
   "pygments_lexer": "ipython3",
   "version": "3.10.11"
  },
  "orig_nbformat": 4
 },
 "nbformat": 4,
 "nbformat_minor": 2
}
