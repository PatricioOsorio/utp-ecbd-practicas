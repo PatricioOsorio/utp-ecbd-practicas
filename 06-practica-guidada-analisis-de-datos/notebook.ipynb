{
 "cells": [
  {
   "cell_type": "markdown",
   "metadata": {},
   "source": [
    "# Práctica Guiada : Análisis de datos\n",
    "---\n",
    "\n",
    "- El alumno realizará un análisis de datos sobre un dataset en Python\n",
    "- El alumno demostrará sus conocimientos acerca del ciclo activo del análisis de datos mediante un conjunto de datos determinado con python\n",
    "\n",
    "## Librerias\n",
    "- **NumPy**: Contiene funciones matemáticas para aplicarlas a un conjunto de datos\n",
    "- **Pandas**: Se utiliza para manipular los datos incluidos en las tablas\n",
    "- **Matplotlib**: Permite generar diagramas simples o complejos para la visualización de datos\n",
    "\n"
   ]
  },
  {
   "cell_type": "markdown",
   "metadata": {},
   "source": [
    "## Parte 1: Importación de paquetes Python\n",
    "---"
   ]
  },
  {
   "cell_type": "code",
   "execution_count": 152,
   "metadata": {},
   "outputs": [],
   "source": [
    "import pandas as pd\n",
    "import matplotlib.pyplot as plt\n",
    "import numpy as np"
   ]
  },
  {
   "cell_type": "markdown",
   "metadata": {},
   "source": [
    "## Parte 2: Carga de datos\n",
    "---"
   ]
  },
  {
   "cell_type": "code",
   "execution_count": 153,
   "metadata": {},
   "outputs": [],
   "source": [
    "path_data_crimes = \"Map-Crime_Incidents-Previous_Three_Months.csv\"\n",
    "\n",
    "data_crimes = pd.read_csv(path_data_crimes)"
   ]
  },
  {
   "cell_type": "code",
   "execution_count": 154,
   "metadata": {},
   "outputs": [
    {
     "data": {
      "text/html": [
       "<div>\n",
       "<style scoped>\n",
       "    .dataframe tbody tr th:only-of-type {\n",
       "        vertical-align: middle;\n",
       "    }\n",
       "\n",
       "    .dataframe tbody tr th {\n",
       "        vertical-align: top;\n",
       "    }\n",
       "\n",
       "    .dataframe thead th {\n",
       "        text-align: right;\n",
       "    }\n",
       "</style>\n",
       "<table border=\"1\" class=\"dataframe\">\n",
       "  <thead>\n",
       "    <tr style=\"text-align: right;\">\n",
       "      <th></th>\n",
       "      <th>IncidntNum</th>\n",
       "      <th>...</th>\n",
       "      <th>Location</th>\n",
       "    </tr>\n",
       "  </thead>\n",
       "  <tbody>\n",
       "    <tr>\n",
       "      <th>0</th>\n",
       "      <td>NaN</td>\n",
       "      <td>...</td>\n",
       "      <td>(37.7909741243888, -122.417392830334)</td>\n",
       "    </tr>\n",
       "    <tr>\n",
       "      <th>1</th>\n",
       "      <td>NaN</td>\n",
       "      <td>...</td>\n",
       "      <td>(37.7963018736036, -122.404417620748)</td>\n",
       "    </tr>\n",
       "    <tr>\n",
       "      <th>2</th>\n",
       "      <td>NaN</td>\n",
       "      <td>...</td>\n",
       "      <td>(37.7894347630337, -122.406958660602)</td>\n",
       "    </tr>\n",
       "    <tr>\n",
       "      <th>3</th>\n",
       "      <td>NaN</td>\n",
       "      <td>...</td>\n",
       "      <td>(37.7650501214965, -122.419671780296)</td>\n",
       "    </tr>\n",
       "    <tr>\n",
       "      <th>4</th>\n",
       "      <td>NaN</td>\n",
       "      <td>...</td>\n",
       "      <td>(37.7851670875814, -122.417903977564)</td>\n",
       "    </tr>\n",
       "  </tbody>\n",
       "</table>\n",
       "<p>5 rows × 12 columns</p>\n",
       "</div>"
      ],
      "text/plain": [
       "   IncidntNum  ...                               Location\n",
       "0         NaN  ...  (37.7909741243888, -122.417392830334)\n",
       "1         NaN  ...  (37.7963018736036, -122.404417620748)\n",
       "2         NaN  ...  (37.7894347630337, -122.406958660602)\n",
       "3         NaN  ...  (37.7650501214965, -122.419671780296)\n",
       "4         NaN  ...  (37.7851670875814, -122.417903977564)\n",
       "\n",
       "[5 rows x 12 columns]"
      ]
     },
     "execution_count": 154,
     "metadata": {},
     "output_type": "execute_result"
    }
   ],
   "source": [
    "# Visualizacion de las 5 primeras filas\n",
    "data_crimes.head(5)"
   ]
  },
  {
   "cell_type": "markdown",
   "metadata": {},
   "source": [
    "> El alumno ejecutará el comando para visualizar las primeras 20 filas\n",
    ">> Respuesta: `data_crimes.head(20)`"
   ]
  },
  {
   "cell_type": "code",
   "execution_count": 155,
   "metadata": {},
   "outputs": [
    {
     "data": {
      "text/html": [
       "<div>\n",
       "<style scoped>\n",
       "    .dataframe tbody tr th:only-of-type {\n",
       "        vertical-align: middle;\n",
       "    }\n",
       "\n",
       "    .dataframe tbody tr th {\n",
       "        vertical-align: top;\n",
       "    }\n",
       "\n",
       "    .dataframe thead th {\n",
       "        text-align: right;\n",
       "    }\n",
       "</style>\n",
       "<table border=\"1\" class=\"dataframe\">\n",
       "  <thead>\n",
       "    <tr style=\"text-align: right;\">\n",
       "      <th></th>\n",
       "      <th>IncidntNum</th>\n",
       "      <th>...</th>\n",
       "      <th>Location</th>\n",
       "    </tr>\n",
       "  </thead>\n",
       "  <tbody>\n",
       "    <tr>\n",
       "      <th>0</th>\n",
       "      <td>NaN</td>\n",
       "      <td>...</td>\n",
       "      <td>(37.7909741243888, -122.417392830334)</td>\n",
       "    </tr>\n",
       "    <tr>\n",
       "      <th>1</th>\n",
       "      <td>NaN</td>\n",
       "      <td>...</td>\n",
       "      <td>(37.7963018736036, -122.404417620748)</td>\n",
       "    </tr>\n",
       "    <tr>\n",
       "      <th>2</th>\n",
       "      <td>NaN</td>\n",
       "      <td>...</td>\n",
       "      <td>(37.7894347630337, -122.406958660602)</td>\n",
       "    </tr>\n",
       "    <tr>\n",
       "      <th>3</th>\n",
       "      <td>NaN</td>\n",
       "      <td>...</td>\n",
       "      <td>(37.7650501214965, -122.419671780296)</td>\n",
       "    </tr>\n",
       "    <tr>\n",
       "      <th>4</th>\n",
       "      <td>NaN</td>\n",
       "      <td>...</td>\n",
       "      <td>(37.7851670875814, -122.417903977564)</td>\n",
       "    </tr>\n",
       "    <tr>\n",
       "      <th>...</th>\n",
       "      <td>...</td>\n",
       "      <td>...</td>\n",
       "      <td>...</td>\n",
       "    </tr>\n",
       "    <tr>\n",
       "      <th>15</th>\n",
       "      <td>NaN</td>\n",
       "      <td>...</td>\n",
       "      <td>(37.7752316978411, -122.403742962696)</td>\n",
       "    </tr>\n",
       "    <tr>\n",
       "      <th>16</th>\n",
       "      <td>NaN</td>\n",
       "      <td>...</td>\n",
       "      <td>(37.7706305911072, -122.41248326348)</td>\n",
       "    </tr>\n",
       "    <tr>\n",
       "      <th>17</th>\n",
       "      <td>NaN</td>\n",
       "      <td>...</td>\n",
       "      <td>(37.7656058639002, -122.410488829308)</td>\n",
       "    </tr>\n",
       "    <tr>\n",
       "      <th>18</th>\n",
       "      <td>NaN</td>\n",
       "      <td>...</td>\n",
       "      <td>(37.7305574452629, -122.496694112595)</td>\n",
       "    </tr>\n",
       "    <tr>\n",
       "      <th>19</th>\n",
       "      <td>NaN</td>\n",
       "      <td>...</td>\n",
       "      <td>(37.7850007113177, -122.411985603056)</td>\n",
       "    </tr>\n",
       "  </tbody>\n",
       "</table>\n",
       "<p>20 rows × 12 columns</p>\n",
       "</div>"
      ],
      "text/plain": [
       "    IncidntNum  ...                               Location\n",
       "0          NaN  ...  (37.7909741243888, -122.417392830334)\n",
       "1          NaN  ...  (37.7963018736036, -122.404417620748)\n",
       "2          NaN  ...  (37.7894347630337, -122.406958660602)\n",
       "3          NaN  ...  (37.7650501214965, -122.419671780296)\n",
       "4          NaN  ...  (37.7851670875814, -122.417903977564)\n",
       "..         ...  ...                                    ...\n",
       "15         NaN  ...  (37.7752316978411, -122.403742962696)\n",
       "16         NaN  ...   (37.7706305911072, -122.41248326348)\n",
       "17         NaN  ...  (37.7656058639002, -122.410488829308)\n",
       "18         NaN  ...  (37.7305574452629, -122.496694112595)\n",
       "19         NaN  ...  (37.7850007113177, -122.411985603056)\n",
       "\n",
       "[20 rows x 12 columns]"
      ]
     },
     "execution_count": 155,
     "metadata": {},
     "output_type": "execute_result"
    }
   ],
   "source": [
    "data_crimes.head(20)"
   ]
  },
  {
   "cell_type": "markdown",
   "metadata": {},
   "source": [
    "- Mostrar los datos importados\n",
    "  - Para mostrar las primeras 5 filas y las 5 últimas filas se utiliza el método `set_option()`, donde:\n",
    "  - El parámetro `display_max_rows` para determinar las filas\n",
    "  - El parámetro `display_max_columns` para determinar las columnas"
   ]
  },
  {
   "cell_type": "code",
   "execution_count": 156,
   "metadata": {},
   "outputs": [
    {
     "data": {
      "text/html": [
       "<div>\n",
       "<style scoped>\n",
       "    .dataframe tbody tr th:only-of-type {\n",
       "        vertical-align: middle;\n",
       "    }\n",
       "\n",
       "    .dataframe tbody tr th {\n",
       "        vertical-align: top;\n",
       "    }\n",
       "\n",
       "    .dataframe thead th {\n",
       "        text-align: right;\n",
       "    }\n",
       "</style>\n",
       "<table border=\"1\" class=\"dataframe\">\n",
       "  <thead>\n",
       "    <tr style=\"text-align: right;\">\n",
       "      <th></th>\n",
       "      <th>IncidntNum</th>\n",
       "      <th>...</th>\n",
       "      <th>Location</th>\n",
       "    </tr>\n",
       "  </thead>\n",
       "  <tbody>\n",
       "    <tr>\n",
       "      <th>0</th>\n",
       "      <td>NaN</td>\n",
       "      <td>...</td>\n",
       "      <td>(37.7909741243888, -122.417392830334)</td>\n",
       "    </tr>\n",
       "    <tr>\n",
       "      <th>1</th>\n",
       "      <td>NaN</td>\n",
       "      <td>...</td>\n",
       "      <td>(37.7963018736036, -122.404417620748)</td>\n",
       "    </tr>\n",
       "    <tr>\n",
       "      <th>2</th>\n",
       "      <td>NaN</td>\n",
       "      <td>...</td>\n",
       "      <td>(37.7894347630337, -122.406958660602)</td>\n",
       "    </tr>\n",
       "    <tr>\n",
       "      <th>3</th>\n",
       "      <td>NaN</td>\n",
       "      <td>...</td>\n",
       "      <td>(37.7650501214965, -122.419671780296)</td>\n",
       "    </tr>\n",
       "    <tr>\n",
       "      <th>4</th>\n",
       "      <td>NaN</td>\n",
       "      <td>...</td>\n",
       "      <td>(37.7851670875814, -122.417903977564)</td>\n",
       "    </tr>\n",
       "    <tr>\n",
       "      <th>...</th>\n",
       "      <td>...</td>\n",
       "      <td>...</td>\n",
       "      <td>...</td>\n",
       "    </tr>\n",
       "    <tr>\n",
       "      <th>30755</th>\n",
       "      <td>NaN</td>\n",
       "      <td>...</td>\n",
       "      <td>(37.7839574642528, -122.408051765969)</td>\n",
       "    </tr>\n",
       "    <tr>\n",
       "      <th>30756</th>\n",
       "      <td>NaN</td>\n",
       "      <td>...</td>\n",
       "      <td>(37.7802607511488, -122.418600974625)</td>\n",
       "    </tr>\n",
       "    <tr>\n",
       "      <th>30757</th>\n",
       "      <td>NaN</td>\n",
       "      <td>...</td>\n",
       "      <td>(37.7813786419025, -122.412121608136)</td>\n",
       "    </tr>\n",
       "    <tr>\n",
       "      <th>30758</th>\n",
       "      <td>NaN</td>\n",
       "      <td>...</td>\n",
       "      <td>(37.7874944447786, -122.407434204569)</td>\n",
       "    </tr>\n",
       "    <tr>\n",
       "      <th>30759</th>\n",
       "      <td>NaN</td>\n",
       "      <td>...</td>\n",
       "      <td>(37.7336749150401, -122.426391018521)</td>\n",
       "    </tr>\n",
       "  </tbody>\n",
       "</table>\n",
       "<p>30760 rows × 12 columns</p>\n",
       "</div>"
      ],
      "text/plain": [
       "       IncidntNum  ...                               Location\n",
       "0             NaN  ...  (37.7909741243888, -122.417392830334)\n",
       "1             NaN  ...  (37.7963018736036, -122.404417620748)\n",
       "2             NaN  ...  (37.7894347630337, -122.406958660602)\n",
       "3             NaN  ...  (37.7650501214965, -122.419671780296)\n",
       "4             NaN  ...  (37.7851670875814, -122.417903977564)\n",
       "...           ...  ...                                    ...\n",
       "30755         NaN  ...  (37.7839574642528, -122.408051765969)\n",
       "30756         NaN  ...  (37.7802607511488, -122.418600974625)\n",
       "30757         NaN  ...  (37.7813786419025, -122.412121608136)\n",
       "30758         NaN  ...  (37.7874944447786, -122.407434204569)\n",
       "30759         NaN  ...  (37.7336749150401, -122.426391018521)\n",
       "\n",
       "[30760 rows x 12 columns]"
      ]
     },
     "execution_count": 156,
     "metadata": {},
     "output_type": "execute_result"
    }
   ],
   "source": [
    "# 10 para indicar el total de filas o columnas a mostrar\n",
    "pd.set_option(\"display.max_rows\", 10)\n",
    "\n",
    "data_crimes"
   ]
  },
  {
   "cell_type": "markdown",
   "metadata": {},
   "source": [
    "> El alumno ejecuta el comando para mostrar la primera y última columna del marco de datos\n",
    ">> Respuesta: `pd.set_option(\"display.max_columns\", 2)`"
   ]
  },
  {
   "cell_type": "code",
   "execution_count": 157,
   "metadata": {},
   "outputs": [
    {
     "data": {
      "text/html": [
       "<div>\n",
       "<style scoped>\n",
       "    .dataframe tbody tr th:only-of-type {\n",
       "        vertical-align: middle;\n",
       "    }\n",
       "\n",
       "    .dataframe tbody tr th {\n",
       "        vertical-align: top;\n",
       "    }\n",
       "\n",
       "    .dataframe thead th {\n",
       "        text-align: right;\n",
       "    }\n",
       "</style>\n",
       "<table border=\"1\" class=\"dataframe\">\n",
       "  <thead>\n",
       "    <tr style=\"text-align: right;\">\n",
       "      <th></th>\n",
       "      <th>IncidntNum</th>\n",
       "      <th>...</th>\n",
       "      <th>Location</th>\n",
       "    </tr>\n",
       "  </thead>\n",
       "  <tbody>\n",
       "    <tr>\n",
       "      <th>0</th>\n",
       "      <td>NaN</td>\n",
       "      <td>...</td>\n",
       "      <td>(37.7909741243888, -122.417392830334)</td>\n",
       "    </tr>\n",
       "    <tr>\n",
       "      <th>1</th>\n",
       "      <td>NaN</td>\n",
       "      <td>...</td>\n",
       "      <td>(37.7963018736036, -122.404417620748)</td>\n",
       "    </tr>\n",
       "    <tr>\n",
       "      <th>2</th>\n",
       "      <td>NaN</td>\n",
       "      <td>...</td>\n",
       "      <td>(37.7894347630337, -122.406958660602)</td>\n",
       "    </tr>\n",
       "    <tr>\n",
       "      <th>3</th>\n",
       "      <td>NaN</td>\n",
       "      <td>...</td>\n",
       "      <td>(37.7650501214965, -122.419671780296)</td>\n",
       "    </tr>\n",
       "    <tr>\n",
       "      <th>4</th>\n",
       "      <td>NaN</td>\n",
       "      <td>...</td>\n",
       "      <td>(37.7851670875814, -122.417903977564)</td>\n",
       "    </tr>\n",
       "    <tr>\n",
       "      <th>...</th>\n",
       "      <td>...</td>\n",
       "      <td>...</td>\n",
       "      <td>...</td>\n",
       "    </tr>\n",
       "    <tr>\n",
       "      <th>30755</th>\n",
       "      <td>NaN</td>\n",
       "      <td>...</td>\n",
       "      <td>(37.7839574642528, -122.408051765969)</td>\n",
       "    </tr>\n",
       "    <tr>\n",
       "      <th>30756</th>\n",
       "      <td>NaN</td>\n",
       "      <td>...</td>\n",
       "      <td>(37.7802607511488, -122.418600974625)</td>\n",
       "    </tr>\n",
       "    <tr>\n",
       "      <th>30757</th>\n",
       "      <td>NaN</td>\n",
       "      <td>...</td>\n",
       "      <td>(37.7813786419025, -122.412121608136)</td>\n",
       "    </tr>\n",
       "    <tr>\n",
       "      <th>30758</th>\n",
       "      <td>NaN</td>\n",
       "      <td>...</td>\n",
       "      <td>(37.7874944447786, -122.407434204569)</td>\n",
       "    </tr>\n",
       "    <tr>\n",
       "      <th>30759</th>\n",
       "      <td>NaN</td>\n",
       "      <td>...</td>\n",
       "      <td>(37.7336749150401, -122.426391018521)</td>\n",
       "    </tr>\n",
       "  </tbody>\n",
       "</table>\n",
       "<p>30760 rows × 12 columns</p>\n",
       "</div>"
      ],
      "text/plain": [
       "       IncidntNum  ...                               Location\n",
       "0             NaN  ...  (37.7909741243888, -122.417392830334)\n",
       "1             NaN  ...  (37.7963018736036, -122.404417620748)\n",
       "2             NaN  ...  (37.7894347630337, -122.406958660602)\n",
       "3             NaN  ...  (37.7650501214965, -122.419671780296)\n",
       "4             NaN  ...  (37.7851670875814, -122.417903977564)\n",
       "...           ...  ...                                    ...\n",
       "30755         NaN  ...  (37.7839574642528, -122.408051765969)\n",
       "30756         NaN  ...  (37.7802607511488, -122.418600974625)\n",
       "30757         NaN  ...  (37.7813786419025, -122.412121608136)\n",
       "30758         NaN  ...  (37.7874944447786, -122.407434204569)\n",
       "30759         NaN  ...  (37.7336749150401, -122.426391018521)\n",
       "\n",
       "[30760 rows x 12 columns]"
      ]
     },
     "execution_count": 157,
     "metadata": {},
     "output_type": "execute_result"
    }
   ],
   "source": [
    "pd.set_option(\"display.max_columns\", 2)\n",
    "\n",
    "data_crimes"
   ]
  },
  {
   "cell_type": "code",
   "execution_count": 158,
   "metadata": {},
   "outputs": [
    {
     "data": {
      "text/plain": [
       "Index(['IncidntNum', 'Category', 'Descript', 'DayOfWeek', 'Date', 'Time',\n",
       "       'PdDistrict', 'Resolution', 'Address', 'X', 'Y', 'Location'],\n",
       "      dtype='object')"
      ]
     },
     "execution_count": 158,
     "metadata": {},
     "output_type": "execute_result"
    }
   ],
   "source": [
    "# Mostrar el nombre de las columnas\n",
    "data_crimes.columns"
   ]
  },
  {
   "cell_type": "markdown",
   "metadata": {},
   "source": [
    "> El alumno responderá a ¿Cuántas variables se incluyen en el marco de datos de SF (ignore el índice)?\n",
    ">> Respuesta: 12"
   ]
  },
  {
   "cell_type": "code",
   "execution_count": 159,
   "metadata": {},
   "outputs": [
    {
     "data": {
      "text/plain": [
       "30760"
      ]
     },
     "execution_count": 159,
     "metadata": {},
     "output_type": "execute_result"
    }
   ],
   "source": [
    "# Deteminar el numero total de filas\n",
    "len(data_crimes)"
   ]
  },
  {
   "cell_type": "markdown",
   "metadata": {},
   "source": [
    "## Parte 3: Preparación de datos\n",
    "---"
   ]
  },
  {
   "cell_type": "markdown",
   "metadata": {},
   "source": [
    "### Paso 1: Extraer el mes y el día del campo de Date (Fecha)"
   ]
  },
  {
   "cell_type": "code",
   "execution_count": 160,
   "metadata": {},
   "outputs": [
    {
     "data": {
      "text/plain": [
       "0        08/31/2014 07:00:00 AM +0000\n",
       "1        08/31/2014 07:00:00 AM +0000\n",
       "2        08/31/2014 07:00:00 AM +0000\n",
       "3        08/31/2014 07:00:00 AM +0000\n",
       "4        08/31/2014 07:00:00 AM +0000\n",
       "                     ...             \n",
       "30755    06/01/2014 07:00:00 AM +0000\n",
       "30756    06/01/2014 07:00:00 AM +0000\n",
       "30757    06/01/2014 07:00:00 AM +0000\n",
       "30758    06/01/2014 07:00:00 AM +0000\n",
       "30759    06/01/2014 07:00:00 AM +0000\n",
       "Name: Date, Length: 30760, dtype: object"
      ]
     },
     "execution_count": 160,
     "metadata": {},
     "output_type": "execute_result"
    }
   ],
   "source": [
    "data_crimes['Date']"
   ]
  },
  {
   "cell_type": "code",
   "execution_count": 161,
   "metadata": {},
   "outputs": [],
   "source": [
    "data_crimes['Month'] = data_crimes['Date'].apply(lambda row: int(row[0:2]))\n",
    "data_crimes['Day'] = data_crimes['Date'].apply(lambda row: int(row[3:5]))\n",
    "data_crimes['Year'] = data_crimes['Date'].apply(lambda row: int(row[6:10]))"
   ]
  },
  {
   "cell_type": "code",
   "execution_count": 162,
   "metadata": {},
   "outputs": [
    {
     "data": {
      "text/plain": [
       "0        8\n",
       "1        8\n",
       "2        8\n",
       "3        8\n",
       "4        8\n",
       "        ..\n",
       "30755    6\n",
       "30756    6\n",
       "30757    6\n",
       "30758    6\n",
       "30759    6\n",
       "Name: Month, Length: 30760, dtype: int64"
      ]
     },
     "execution_count": 162,
     "metadata": {},
     "output_type": "execute_result"
    }
   ],
   "source": [
    "data_crimes['Month']"
   ]
  },
  {
   "cell_type": "code",
   "execution_count": 163,
   "metadata": {},
   "outputs": [
    {
     "data": {
      "text/plain": [
       "0    31\n",
       "1    31\n",
       "2    31\n",
       "3    31\n",
       "4    31\n",
       "5    31\n",
       "6    31\n",
       "7    31\n",
       "8    31\n",
       "9    31\n",
       "Name: Day, dtype: int64"
      ]
     },
     "execution_count": 163,
     "metadata": {},
     "output_type": "execute_result"
    }
   ],
   "source": [
    "data_crimes['Day'] [0:10]"
   ]
  },
  {
   "cell_type": "code",
   "execution_count": 164,
   "metadata": {},
   "outputs": [
    {
     "data": {
      "text/plain": [
       "numpy.int64"
      ]
     },
     "execution_count": 164,
     "metadata": {},
     "output_type": "execute_result"
    }
   ],
   "source": [
    "# Checamos el tipo de dato\n",
    "type(data_crimes['Month'][0])"
   ]
  },
  {
   "cell_type": "code",
   "execution_count": 165,
   "metadata": {},
   "outputs": [
    {
     "data": {
      "text/plain": [
       "0        2014\n",
       "1        2014\n",
       "2        2014\n",
       "3        2014\n",
       "4        2014\n",
       "         ... \n",
       "30755    2014\n",
       "30756    2014\n",
       "30757    2014\n",
       "30758    2014\n",
       "30759    2014\n",
       "Name: Year, Length: 30760, dtype: int64"
      ]
     },
     "execution_count": 165,
     "metadata": {},
     "output_type": "execute_result"
    }
   ],
   "source": [
    "data_crimes['Year'] "
   ]
  },
  {
   "cell_type": "markdown",
   "metadata": {},
   "source": [
    "> El alumno verificara las columnas “Day” y “Month” en el marco de trabajo SF para\n",
    ">> Respuesta:"
   ]
  },
  {
   "cell_type": "markdown",
   "metadata": {},
   "source": [
    "### Paso 2: Eliminar las columnas del marco de datos `data_crimes`"
   ]
  },
  {
   "cell_type": "code",
   "execution_count": 166,
   "metadata": {},
   "outputs": [
    {
     "data": {
      "text/plain": [
       "0       NaN\n",
       "1       NaN\n",
       "2       NaN\n",
       "3       NaN\n",
       "4       NaN\n",
       "         ..\n",
       "30755   NaN\n",
       "30756   NaN\n",
       "30757   NaN\n",
       "30758   NaN\n",
       "30759   NaN\n",
       "Name: IncidntNum, Length: 30760, dtype: float64"
      ]
     },
     "execution_count": 166,
     "metadata": {},
     "output_type": "execute_result"
    }
   ],
   "source": [
    "data_crimes['IncidntNum']"
   ]
  },
  {
   "cell_type": "code",
   "execution_count": 167,
   "metadata": {},
   "outputs": [],
   "source": [
    "# Eliminamos la columna\n",
    "del data_crimes['IncidntNum']"
   ]
  },
  {
   "cell_type": "code",
   "execution_count": 168,
   "metadata": {},
   "outputs": [
    {
     "data": {
      "text/plain": [
       "Index(['Category', 'Descript', 'DayOfWeek', 'Date', 'Time', 'PdDistrict',\n",
       "       'Resolution', 'Address', 'X', 'Y', 'Location', 'Month', 'Day', 'Year'],\n",
       "      dtype='object')"
      ]
     },
     "execution_count": 168,
     "metadata": {},
     "output_type": "execute_result"
    }
   ],
   "source": [
    "data_crimes.columns"
   ]
  },
  {
   "cell_type": "markdown",
   "metadata": {},
   "source": [
    "> Verificar el número de columnas en el marco de datos SF\n",
    ">> Respuesta: `['Category', 'Descript', 'DayOfWeek', 'Date', 'Time', 'PdDistrict', 'Resolution', 'Address', 'X', 'Y', 'Location', 'Month', 'Day', 'Year']`"
   ]
  },
  {
   "cell_type": "code",
   "execution_count": 169,
   "metadata": {},
   "outputs": [
    {
     "data": {
      "text/plain": [
       "Index(['Category', 'Descript', 'DayOfWeek', 'Date', 'Time', 'PdDistrict',\n",
       "       'Resolution', 'Address', 'X', 'Y', 'Month', 'Day', 'Year'],\n",
       "      dtype='object')"
      ]
     },
     "execution_count": 169,
     "metadata": {},
     "output_type": "execute_result"
    }
   ],
   "source": [
    "# axis=1 => column\n",
    "# inplace=true => modifica la variable original\n",
    "data_crimes.drop('Location', axis=1, inplace=True)\n",
    "\n",
    "data_crimes.columns"
   ]
  },
  {
   "cell_type": "markdown",
   "metadata": {},
   "source": [
    "> Verificar el número de columnas en el marco de datos\n",
    ">> Respuesta: `['Category', 'Descript', 'DayOfWeek', 'Date', 'Time', 'PdDistrict', 'Resolution', 'Address', 'X', 'Y', 'Month', 'Day', 'Year']`"
   ]
  },
  {
   "cell_type": "markdown",
   "metadata": {},
   "source": [
    "## Parte 4: Análisis de datos\n",
    "---"
   ]
  },
  {
   "cell_type": "markdown",
   "metadata": {},
   "source": [
    "### Paso 1: resumir las variables para obtener informacion estadistica"
   ]
  },
  {
   "cell_type": "code",
   "execution_count": 170,
   "metadata": {},
   "outputs": [
    {
     "name": "stdout",
     "output_type": "stream",
     "text": [
      "Category\n",
      "LARCENY/THEFT                 8205\n",
      "OTHER OFFENSES                4004\n",
      "NON-CRIMINAL                  3653\n",
      "ASSAULT                       2518\n",
      "VEHICLE THEFT                 1885\n",
      "                              ... \n",
      "SEX OFFENSES, NON FORCIBLE       5\n",
      "BAD CHECKS                       3\n",
      "GAMBLING                         1\n",
      "PORNOGRAPHY/OBSCENE MAT          1\n",
      "BRIBERY                          1\n",
      "Name: count, Length: 36, dtype: int64\n"
     ]
    }
   ],
   "source": [
    "count_category = data_crimes['Category'].value_counts()\n",
    "\n",
    "print(count_category)"
   ]
  },
  {
   "cell_type": "markdown",
   "metadata": {},
   "source": [
    "> ¿Qué delito es el más recurrente?\n",
    ">> Respuesta: LARCENY/THEFT"
   ]
  },
  {
   "cell_type": "code",
   "execution_count": 171,
   "metadata": {},
   "outputs": [
    {
     "name": "stdout",
     "output_type": "stream",
     "text": [
      "PdDistrict\n",
      "SOUTHERN      6185\n",
      "MISSION       4011\n",
      "CENTRAL       3867\n",
      "NORTHERN      3205\n",
      "BAYVIEW       2970\n",
      "INGLESIDE     2613\n",
      "TENDERLOIN    2449\n",
      "TARAVAL       2038\n",
      "PARK          1800\n",
      "RICHMOND      1622\n",
      "Name: count, dtype: int64\n"
     ]
    }
   ],
   "source": [
    "count_pd_district = data_crimes['PdDistrict'].value_counts(ascending=False)\n",
    "\n",
    "print(count_pd_district)"
   ]
  },
  {
   "cell_type": "markdown",
   "metadata": {},
   "source": [
    "> ¿Qué PdDistrict presentaba la mayoría de los incidentes de delitos informados?\n",
    ">> Respuesta: SOUTHERN"
   ]
  },
  {
   "cell_type": "markdown",
   "metadata": {},
   "source": [
    "### Paso 2: Crear subconjuntos de datos y organizarlos en marcos de datos más pequeños"
   ]
  },
  {
   "cell_type": "code",
   "execution_count": 172,
   "metadata": {},
   "outputs": [
    {
     "data": {
      "text/html": [
       "<div>\n",
       "<style scoped>\n",
       "    .dataframe tbody tr th:only-of-type {\n",
       "        vertical-align: middle;\n",
       "    }\n",
       "\n",
       "    .dataframe tbody tr th {\n",
       "        vertical-align: top;\n",
       "    }\n",
       "\n",
       "    .dataframe thead th {\n",
       "        text-align: right;\n",
       "    }\n",
       "</style>\n",
       "<table border=\"1\" class=\"dataframe\">\n",
       "  <thead>\n",
       "    <tr style=\"text-align: right;\">\n",
       "      <th></th>\n",
       "      <th>Category</th>\n",
       "      <th>...</th>\n",
       "      <th>Year</th>\n",
       "    </tr>\n",
       "  </thead>\n",
       "  <tbody>\n",
       "    <tr>\n",
       "      <th>0</th>\n",
       "      <td>LARCENY/THEFT</td>\n",
       "      <td>...</td>\n",
       "      <td>2014</td>\n",
       "    </tr>\n",
       "    <tr>\n",
       "      <th>1</th>\n",
       "      <td>LARCENY/THEFT</td>\n",
       "      <td>...</td>\n",
       "      <td>2014</td>\n",
       "    </tr>\n",
       "    <tr>\n",
       "      <th>2</th>\n",
       "      <td>LARCENY/THEFT</td>\n",
       "      <td>...</td>\n",
       "      <td>2014</td>\n",
       "    </tr>\n",
       "    <tr>\n",
       "      <th>3</th>\n",
       "      <td>DRUG/NARCOTIC</td>\n",
       "      <td>...</td>\n",
       "      <td>2014</td>\n",
       "    </tr>\n",
       "    <tr>\n",
       "      <th>4</th>\n",
       "      <td>DRUG/NARCOTIC</td>\n",
       "      <td>...</td>\n",
       "      <td>2014</td>\n",
       "    </tr>\n",
       "    <tr>\n",
       "      <th>...</th>\n",
       "      <td>...</td>\n",
       "      <td>...</td>\n",
       "      <td>...</td>\n",
       "    </tr>\n",
       "    <tr>\n",
       "      <th>9715</th>\n",
       "      <td>NON-CRIMINAL</td>\n",
       "      <td>...</td>\n",
       "      <td>2014</td>\n",
       "    </tr>\n",
       "    <tr>\n",
       "      <th>9716</th>\n",
       "      <td>OTHER OFFENSES</td>\n",
       "      <td>...</td>\n",
       "      <td>2014</td>\n",
       "    </tr>\n",
       "    <tr>\n",
       "      <th>9717</th>\n",
       "      <td>ASSAULT</td>\n",
       "      <td>...</td>\n",
       "      <td>2014</td>\n",
       "    </tr>\n",
       "    <tr>\n",
       "      <th>9718</th>\n",
       "      <td>DRIVING UNDER THE INFLUENCE</td>\n",
       "      <td>...</td>\n",
       "      <td>2014</td>\n",
       "    </tr>\n",
       "    <tr>\n",
       "      <th>9719</th>\n",
       "      <td>SEX OFFENSES, FORCIBLE</td>\n",
       "      <td>...</td>\n",
       "      <td>2014</td>\n",
       "    </tr>\n",
       "  </tbody>\n",
       "</table>\n",
       "<p>9720 rows × 13 columns</p>\n",
       "</div>"
      ],
      "text/plain": [
       "                         Category  ...  Year\n",
       "0                   LARCENY/THEFT  ...  2014\n",
       "1                   LARCENY/THEFT  ...  2014\n",
       "2                   LARCENY/THEFT  ...  2014\n",
       "3                   DRUG/NARCOTIC  ...  2014\n",
       "4                   DRUG/NARCOTIC  ...  2014\n",
       "...                           ...  ...   ...\n",
       "9715                 NON-CRIMINAL  ...  2014\n",
       "9716               OTHER OFFENSES  ...  2014\n",
       "9717                      ASSAULT  ...  2014\n",
       "9718  DRIVING UNDER THE INFLUENCE  ...  2014\n",
       "9719       SEX OFFENSES, FORCIBLE  ...  2014\n",
       "\n",
       "[9720 rows x 13 columns]"
      ]
     },
     "execution_count": 172,
     "metadata": {},
     "output_type": "execute_result"
    }
   ],
   "source": [
    "august_crimes = data_crimes[data_crimes[\"Month\"] == 8]\n",
    "\n",
    "august_crimes"
   ]
  },
  {
   "cell_type": "markdown",
   "metadata": {},
   "source": [
    "> ¿Cuántos incidentes de delitos hay?\n",
    ">> Respuesta: 9720"
   ]
  },
  {
   "cell_type": "code",
   "execution_count": 173,
   "metadata": {},
   "outputs": [
    {
     "data": {
      "text/html": [
       "<div>\n",
       "<style scoped>\n",
       "    .dataframe tbody tr th:only-of-type {\n",
       "        vertical-align: middle;\n",
       "    }\n",
       "\n",
       "    .dataframe tbody tr th {\n",
       "        vertical-align: top;\n",
       "    }\n",
       "\n",
       "    .dataframe thead th {\n",
       "        text-align: right;\n",
       "    }\n",
       "</style>\n",
       "<table border=\"1\" class=\"dataframe\">\n",
       "  <thead>\n",
       "    <tr style=\"text-align: right;\">\n",
       "      <th></th>\n",
       "      <th>Category</th>\n",
       "      <th>...</th>\n",
       "      <th>Year</th>\n",
       "    </tr>\n",
       "  </thead>\n",
       "  <tbody>\n",
       "    <tr>\n",
       "      <th>185</th>\n",
       "      <td>BURGLARY</td>\n",
       "      <td>...</td>\n",
       "      <td>2014</td>\n",
       "    </tr>\n",
       "    <tr>\n",
       "      <th>212</th>\n",
       "      <td>BURGLARY</td>\n",
       "      <td>...</td>\n",
       "      <td>2014</td>\n",
       "    </tr>\n",
       "    <tr>\n",
       "      <th>240</th>\n",
       "      <td>BURGLARY</td>\n",
       "      <td>...</td>\n",
       "      <td>2014</td>\n",
       "    </tr>\n",
       "    <tr>\n",
       "      <th>251</th>\n",
       "      <td>BURGLARY</td>\n",
       "      <td>...</td>\n",
       "      <td>2014</td>\n",
       "    </tr>\n",
       "    <tr>\n",
       "      <th>262</th>\n",
       "      <td>BURGLARY</td>\n",
       "      <td>...</td>\n",
       "      <td>2014</td>\n",
       "    </tr>\n",
       "    <tr>\n",
       "      <th>...</th>\n",
       "      <td>...</td>\n",
       "      <td>...</td>\n",
       "      <td>...</td>\n",
       "    </tr>\n",
       "    <tr>\n",
       "      <th>9564</th>\n",
       "      <td>BURGLARY</td>\n",
       "      <td>...</td>\n",
       "      <td>2014</td>\n",
       "    </tr>\n",
       "    <tr>\n",
       "      <th>9579</th>\n",
       "      <td>BURGLARY</td>\n",
       "      <td>...</td>\n",
       "      <td>2014</td>\n",
       "    </tr>\n",
       "    <tr>\n",
       "      <th>9615</th>\n",
       "      <td>BURGLARY</td>\n",
       "      <td>...</td>\n",
       "      <td>2014</td>\n",
       "    </tr>\n",
       "    <tr>\n",
       "      <th>9616</th>\n",
       "      <td>BURGLARY</td>\n",
       "      <td>...</td>\n",
       "      <td>2014</td>\n",
       "    </tr>\n",
       "    <tr>\n",
       "      <th>9627</th>\n",
       "      <td>BURGLARY</td>\n",
       "      <td>...</td>\n",
       "      <td>2014</td>\n",
       "    </tr>\n",
       "  </tbody>\n",
       "</table>\n",
       "<p>373 rows × 13 columns</p>\n",
       "</div>"
      ],
      "text/plain": [
       "      Category  ...  Year\n",
       "185   BURGLARY  ...  2014\n",
       "212   BURGLARY  ...  2014\n",
       "240   BURGLARY  ...  2014\n",
       "251   BURGLARY  ...  2014\n",
       "262   BURGLARY  ...  2014\n",
       "...        ...  ...   ...\n",
       "9564  BURGLARY  ...  2014\n",
       "9579  BURGLARY  ...  2014\n",
       "9615  BURGLARY  ...  2014\n",
       "9616  BURGLARY  ...  2014\n",
       "9627  BURGLARY  ...  2014\n",
       "\n",
       "[373 rows x 13 columns]"
      ]
     },
     "execution_count": 173,
     "metadata": {},
     "output_type": "execute_result"
    }
   ],
   "source": [
    "# ¿Cuántos incidentes de Robo (Burglary) se cometieron en agosto?\n",
    "\n",
    "august_crimes_burglary = august_crimes[august_crimes['Category'] == \"BURGLARY\"]\n",
    "\n",
    "august_crimes_burglary"
   ]
  },
  {
   "cell_type": "markdown",
   "metadata": {},
   "source": [
    "> Calcular el número total de incidentes de BURGLARY (Robos) cometidos en el mes de agosto\n",
    ">> Respuesta: 373"
   ]
  },
  {
   "cell_type": "code",
   "execution_count": 174,
   "metadata": {},
   "outputs": [
    {
     "data": {
      "text/html": [
       "<div>\n",
       "<style scoped>\n",
       "    .dataframe tbody tr th:only-of-type {\n",
       "        vertical-align: middle;\n",
       "    }\n",
       "\n",
       "    .dataframe tbody tr th {\n",
       "        vertical-align: top;\n",
       "    }\n",
       "\n",
       "    .dataframe thead th {\n",
       "        text-align: right;\n",
       "    }\n",
       "</style>\n",
       "<table border=\"1\" class=\"dataframe\">\n",
       "  <thead>\n",
       "    <tr style=\"text-align: right;\">\n",
       "      <th></th>\n",
       "      <th>Category</th>\n",
       "      <th>...</th>\n",
       "      <th>Year</th>\n",
       "    </tr>\n",
       "  </thead>\n",
       "  <tbody>\n",
       "    <tr>\n",
       "      <th>20463</th>\n",
       "      <td>ASSAULT</td>\n",
       "      <td>...</td>\n",
       "      <td>2014</td>\n",
       "    </tr>\n",
       "    <tr>\n",
       "      <th>20466</th>\n",
       "      <td>ASSAULT</td>\n",
       "      <td>...</td>\n",
       "      <td>2014</td>\n",
       "    </tr>\n",
       "    <tr>\n",
       "      <th>20492</th>\n",
       "      <td>ASSAULT</td>\n",
       "      <td>...</td>\n",
       "      <td>2014</td>\n",
       "    </tr>\n",
       "    <tr>\n",
       "      <th>20499</th>\n",
       "      <td>ASSAULT</td>\n",
       "      <td>...</td>\n",
       "      <td>2014</td>\n",
       "    </tr>\n",
       "    <tr>\n",
       "      <th>20501</th>\n",
       "      <td>ASSAULT</td>\n",
       "      <td>...</td>\n",
       "      <td>2014</td>\n",
       "    </tr>\n",
       "    <tr>\n",
       "      <th>...</th>\n",
       "      <td>...</td>\n",
       "      <td>...</td>\n",
       "      <td>...</td>\n",
       "    </tr>\n",
       "    <tr>\n",
       "      <th>30733</th>\n",
       "      <td>ASSAULT</td>\n",
       "      <td>...</td>\n",
       "      <td>2014</td>\n",
       "    </tr>\n",
       "    <tr>\n",
       "      <th>30739</th>\n",
       "      <td>ASSAULT</td>\n",
       "      <td>...</td>\n",
       "      <td>2014</td>\n",
       "    </tr>\n",
       "    <tr>\n",
       "      <th>30740</th>\n",
       "      <td>ASSAULT</td>\n",
       "      <td>...</td>\n",
       "      <td>2014</td>\n",
       "    </tr>\n",
       "    <tr>\n",
       "      <th>30757</th>\n",
       "      <td>ASSAULT</td>\n",
       "      <td>...</td>\n",
       "      <td>2014</td>\n",
       "    </tr>\n",
       "    <tr>\n",
       "      <th>30758</th>\n",
       "      <td>ASSAULT</td>\n",
       "      <td>...</td>\n",
       "      <td>2014</td>\n",
       "    </tr>\n",
       "  </tbody>\n",
       "</table>\n",
       "<p>855 rows × 13 columns</p>\n",
       "</div>"
      ],
      "text/plain": [
       "      Category  ...  Year\n",
       "20463  ASSAULT  ...  2014\n",
       "20466  ASSAULT  ...  2014\n",
       "20492  ASSAULT  ...  2014\n",
       "20499  ASSAULT  ...  2014\n",
       "20501  ASSAULT  ...  2014\n",
       "...        ...  ...   ...\n",
       "30733  ASSAULT  ...  2014\n",
       "30739  ASSAULT  ...  2014\n",
       "30740  ASSAULT  ...  2014\n",
       "30757  ASSAULT  ...  2014\n",
       "30758  ASSAULT  ...  2014\n",
       "\n",
       "[855 rows x 13 columns]"
      ]
     },
     "execution_count": 174,
     "metadata": {},
     "output_type": "execute_result"
    }
   ],
   "source": [
    "# ¿Cuántos incidentes de ASSAULT (Asalto)se cometieron en Junio?\n",
    "\n",
    "june_crimes = data_crimes[data_crimes[\"Month\"] == 6]\n",
    "june_crimes_assault = june_crimes[june_crimes['Category'] == \"ASSAULT\"]\n",
    "\n",
    "june_crimes_assault\n"
   ]
  },
  {
   "cell_type": "markdown",
   "metadata": {},
   "source": [
    "> ¿Cuántos incidentes de ASSAULT (Asalto)se cometieron en Junio?\n",
    ">> Respuesta: 855"
   ]
  },
  {
   "cell_type": "code",
   "execution_count": 175,
   "metadata": {},
   "outputs": [
    {
     "data": {
      "text/plain": [
       "341"
      ]
     },
     "execution_count": 175,
     "metadata": {},
     "output_type": "execute_result"
    }
   ],
   "source": [
    "# Para un conjunto especifico\n",
    "crimes_07_04 = data_crimes.query('Month == 7 and Day == 4')\n",
    "len (crimes_07_04)"
   ]
  },
  {
   "cell_type": "markdown",
   "metadata": {},
   "source": [
    "## Parte 5: Visualización de datos\n",
    "___"
   ]
  },
  {
   "cell_type": "code",
   "execution_count": 176,
   "metadata": {},
   "outputs": [
    {
     "data": {
      "image/png": "[encoded data removed]",
      "text/plain": [
       "<Figure size 1500x600 with 1 Axes>"
      ]
     },
     "metadata": {},
     "output_type": "display_data"
    }
   ],
   "source": [
    "plt.rcParams['figure.figsize'] = (20, 9)\n",
    "\n",
    "color = plt.cm.spring(np.linspace(0, 1, 15))\n",
    "\n",
    "data_crimes['Category'].value_counts().plot.bar(color=color, figsize = (15, 6))\n",
    "\n",
    "plt.title(\"Delitos cometidos por categoria\", fontsize = 30)\n",
    "\n",
    "plt.show()"
   ]
  },
  {
   "cell_type": "markdown",
   "metadata": {},
   "source": [
    "> Mostrar los distritos con mayor número de delitos\n",
    ">> Respuesta:"
   ]
  },
  {
   "cell_type": "code",
   "execution_count": 181,
   "metadata": {},
   "outputs": [
    {
     "data": {
      "image/png": "[encoded data removed]",
      "text/plain": [
       "<Figure size 1500x600 with 1 Axes>"
      ]
     },
     "metadata": {},
     "output_type": "display_data"
    }
   ],
   "source": [
    "\n",
    "data_crimes['PdDistrict'].value_counts().plot.bar(color=color, figsize = (15, 6))\n",
    "\n",
    "plt.title(\"Delitos cometidos por distrito\", fontsize = 30)\n",
    "\n",
    "plt.show()"
   ]
  },
  {
   "cell_type": "markdown",
   "metadata": {},
   "source": [
    ">¿Cuál fue el delito más común en San Francisco, California el 4 julio del 2014 ?\n",
    ">> Respuesta: 341"
   ]
  },
  {
   "cell_type": "code",
   "execution_count": 179,
   "metadata": {},
   "outputs": [
    {
     "data": {
      "text/plain": [
       "341"
      ]
     },
     "execution_count": 179,
     "metadata": {},
     "output_type": "execute_result"
    }
   ],
   "source": [
    "# Para un conjunto especifico\n",
    "crimes_04_07_2014 = data_crimes.query('Month == 7 and Day == 4 and Year == 2014')\n",
    "len (crimes_04_07_2014)"
   ]
  }
 ],
 "metadata": {
  "kernelspec": {
   "display_name": "base",
   "language": "python",
   "name": "python3"
  },
  "language_info": {
   "codemirror_mode": {
    "name": "ipython",
    "version": 3
   },
   "file_extension": ".py",
   "mimetype": "text/x-python",
   "name": "python",
   "nbconvert_exporter": "python",
   "pygments_lexer": "ipython3",
   "version": "3.10.11"
  },
  "orig_nbformat": 4
 },
 "nbformat": 4,
 "nbformat_minor": 2
}
